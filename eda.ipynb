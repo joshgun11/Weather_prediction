{
 "cells": [
  {
   "cell_type": "code",
   "execution_count": 313,
   "metadata": {},
   "outputs": [],
   "source": [
    "import pandas as pd \n",
    "import numpy as np \n",
    "import matplotlib.pyplot as plt\n",
    "import seaborn as sns\n",
    "\n",
    "sns.set_theme(style=\"ticks\", color_codes=True)\n",
    "\n"
   ]
  },
  {
   "cell_type": "code",
   "execution_count": 314,
   "metadata": {},
   "outputs": [
    {
     "name": "stderr",
     "output_type": "stream",
     "text": [
      "/Library/Frameworks/Python.framework/Versions/3.8/lib/python3.8/site-packages/IPython/core/interactiveshell.py:3077: DtypeWarning: Columns (7,8,18,25) have mixed types.Specify dtype option on import or set low_memory=False.\n",
      "  has_raised = await self.run_ast_nodes(code_ast.body, cell_name,\n"
     ]
    },
    {
     "data": {
      "text/html": [
       "<div>\n",
       "<style scoped>\n",
       "    .dataframe tbody tr th:only-of-type {\n",
       "        vertical-align: middle;\n",
       "    }\n",
       "\n",
       "    .dataframe tbody tr th {\n",
       "        vertical-align: top;\n",
       "    }\n",
       "\n",
       "    .dataframe thead th {\n",
       "        text-align: right;\n",
       "    }\n",
       "</style>\n",
       "<table border=\"1\" class=\"dataframe\">\n",
       "  <thead>\n",
       "    <tr style=\"text-align: right;\">\n",
       "      <th></th>\n",
       "      <th>STA</th>\n",
       "      <th>Date</th>\n",
       "      <th>Precip</th>\n",
       "      <th>WindGustSpd</th>\n",
       "      <th>MaxTemp</th>\n",
       "      <th>MinTemp</th>\n",
       "      <th>MeanTemp</th>\n",
       "      <th>Snowfall</th>\n",
       "      <th>PoorWeather</th>\n",
       "      <th>YR</th>\n",
       "      <th>...</th>\n",
       "      <th>FB</th>\n",
       "      <th>FTI</th>\n",
       "      <th>ITH</th>\n",
       "      <th>PGT</th>\n",
       "      <th>TSHDSBRSGF</th>\n",
       "      <th>SD3</th>\n",
       "      <th>RHX</th>\n",
       "      <th>RHN</th>\n",
       "      <th>RVG</th>\n",
       "      <th>WTE</th>\n",
       "    </tr>\n",
       "  </thead>\n",
       "  <tbody>\n",
       "    <tr>\n",
       "      <th>0</th>\n",
       "      <td>10001</td>\n",
       "      <td>1942-7-1</td>\n",
       "      <td>1.016</td>\n",
       "      <td>NaN</td>\n",
       "      <td>25.555556</td>\n",
       "      <td>22.222222</td>\n",
       "      <td>23.888889</td>\n",
       "      <td>0</td>\n",
       "      <td>NaN</td>\n",
       "      <td>42</td>\n",
       "      <td>...</td>\n",
       "      <td>NaN</td>\n",
       "      <td>NaN</td>\n",
       "      <td>NaN</td>\n",
       "      <td>NaN</td>\n",
       "      <td>NaN</td>\n",
       "      <td>NaN</td>\n",
       "      <td>NaN</td>\n",
       "      <td>NaN</td>\n",
       "      <td>NaN</td>\n",
       "      <td>NaN</td>\n",
       "    </tr>\n",
       "    <tr>\n",
       "      <th>1</th>\n",
       "      <td>10001</td>\n",
       "      <td>1942-7-2</td>\n",
       "      <td>0</td>\n",
       "      <td>NaN</td>\n",
       "      <td>28.888889</td>\n",
       "      <td>21.666667</td>\n",
       "      <td>25.555556</td>\n",
       "      <td>0</td>\n",
       "      <td>NaN</td>\n",
       "      <td>42</td>\n",
       "      <td>...</td>\n",
       "      <td>NaN</td>\n",
       "      <td>NaN</td>\n",
       "      <td>NaN</td>\n",
       "      <td>NaN</td>\n",
       "      <td>NaN</td>\n",
       "      <td>NaN</td>\n",
       "      <td>NaN</td>\n",
       "      <td>NaN</td>\n",
       "      <td>NaN</td>\n",
       "      <td>NaN</td>\n",
       "    </tr>\n",
       "    <tr>\n",
       "      <th>2</th>\n",
       "      <td>10001</td>\n",
       "      <td>1942-7-3</td>\n",
       "      <td>2.54</td>\n",
       "      <td>NaN</td>\n",
       "      <td>26.111111</td>\n",
       "      <td>22.222222</td>\n",
       "      <td>24.444444</td>\n",
       "      <td>0</td>\n",
       "      <td>NaN</td>\n",
       "      <td>42</td>\n",
       "      <td>...</td>\n",
       "      <td>NaN</td>\n",
       "      <td>NaN</td>\n",
       "      <td>NaN</td>\n",
       "      <td>NaN</td>\n",
       "      <td>NaN</td>\n",
       "      <td>NaN</td>\n",
       "      <td>NaN</td>\n",
       "      <td>NaN</td>\n",
       "      <td>NaN</td>\n",
       "      <td>NaN</td>\n",
       "    </tr>\n",
       "    <tr>\n",
       "      <th>3</th>\n",
       "      <td>10001</td>\n",
       "      <td>1942-7-4</td>\n",
       "      <td>2.54</td>\n",
       "      <td>NaN</td>\n",
       "      <td>26.666667</td>\n",
       "      <td>22.222222</td>\n",
       "      <td>24.444444</td>\n",
       "      <td>0</td>\n",
       "      <td>NaN</td>\n",
       "      <td>42</td>\n",
       "      <td>...</td>\n",
       "      <td>NaN</td>\n",
       "      <td>NaN</td>\n",
       "      <td>NaN</td>\n",
       "      <td>NaN</td>\n",
       "      <td>NaN</td>\n",
       "      <td>NaN</td>\n",
       "      <td>NaN</td>\n",
       "      <td>NaN</td>\n",
       "      <td>NaN</td>\n",
       "      <td>NaN</td>\n",
       "    </tr>\n",
       "    <tr>\n",
       "      <th>4</th>\n",
       "      <td>10001</td>\n",
       "      <td>1942-7-5</td>\n",
       "      <td>0</td>\n",
       "      <td>NaN</td>\n",
       "      <td>26.666667</td>\n",
       "      <td>21.666667</td>\n",
       "      <td>24.444444</td>\n",
       "      <td>0</td>\n",
       "      <td>NaN</td>\n",
       "      <td>42</td>\n",
       "      <td>...</td>\n",
       "      <td>NaN</td>\n",
       "      <td>NaN</td>\n",
       "      <td>NaN</td>\n",
       "      <td>NaN</td>\n",
       "      <td>NaN</td>\n",
       "      <td>NaN</td>\n",
       "      <td>NaN</td>\n",
       "      <td>NaN</td>\n",
       "      <td>NaN</td>\n",
       "      <td>NaN</td>\n",
       "    </tr>\n",
       "  </tbody>\n",
       "</table>\n",
       "<p>5 rows × 31 columns</p>\n",
       "</div>"
      ],
      "text/plain": [
       "     STA      Date Precip  WindGustSpd    MaxTemp    MinTemp   MeanTemp  \\\n",
       "0  10001  1942-7-1  1.016          NaN  25.555556  22.222222  23.888889   \n",
       "1  10001  1942-7-2      0          NaN  28.888889  21.666667  25.555556   \n",
       "2  10001  1942-7-3   2.54          NaN  26.111111  22.222222  24.444444   \n",
       "3  10001  1942-7-4   2.54          NaN  26.666667  22.222222  24.444444   \n",
       "4  10001  1942-7-5      0          NaN  26.666667  21.666667  24.444444   \n",
       "\n",
       "  Snowfall PoorWeather  YR  ...  FB  FTI ITH  PGT  TSHDSBRSGF  SD3  RHX  RHN  \\\n",
       "0        0         NaN  42  ... NaN  NaN NaN  NaN         NaN  NaN  NaN  NaN   \n",
       "1        0         NaN  42  ... NaN  NaN NaN  NaN         NaN  NaN  NaN  NaN   \n",
       "2        0         NaN  42  ... NaN  NaN NaN  NaN         NaN  NaN  NaN  NaN   \n",
       "3        0         NaN  42  ... NaN  NaN NaN  NaN         NaN  NaN  NaN  NaN   \n",
       "4        0         NaN  42  ... NaN  NaN NaN  NaN         NaN  NaN  NaN  NaN   \n",
       "\n",
       "  RVG  WTE  \n",
       "0 NaN  NaN  \n",
       "1 NaN  NaN  \n",
       "2 NaN  NaN  \n",
       "3 NaN  NaN  \n",
       "4 NaN  NaN  \n",
       "\n",
       "[5 rows x 31 columns]"
      ]
     },
     "execution_count": 314,
     "metadata": {},
     "output_type": "execute_result"
    }
   ],
   "source": [
    "df = pd.read_csv('Summary of Weather.csv')\n",
    "df.head(5)"
   ]
  },
  {
   "cell_type": "code",
   "execution_count": 315,
   "metadata": {},
   "outputs": [
    {
     "data": {
      "text/plain": [
       "Index(['STA', 'Date', 'Precip', 'WindGustSpd', 'MaxTemp', 'MinTemp',\n",
       "       'MeanTemp', 'Snowfall', 'PoorWeather', 'YR', 'MO', 'DA', 'PRCP', 'DR',\n",
       "       'SPD', 'MAX', 'MIN', 'MEA', 'SNF', 'SND', 'FT', 'FB', 'FTI', 'ITH',\n",
       "       'PGT', 'TSHDSBRSGF', 'SD3', 'RHX', 'RHN', 'RVG', 'WTE'],\n",
       "      dtype='object')"
      ]
     },
     "execution_count": 315,
     "metadata": {},
     "output_type": "execute_result"
    }
   ],
   "source": [
    "df.columns"
   ]
  },
  {
   "cell_type": "code",
   "execution_count": 316,
   "metadata": {},
   "outputs": [
    {
     "data": {
      "text/plain": [
       "(119040, 31)"
      ]
     },
     "execution_count": 316,
     "metadata": {},
     "output_type": "execute_result"
    }
   ],
   "source": [
    "df.shape"
   ]
  },
  {
   "cell_type": "code",
   "execution_count": 317,
   "metadata": {},
   "outputs": [],
   "source": [
    "df.drop(['STA'], axis=1,inplace=True)"
   ]
  },
  {
   "cell_type": "code",
   "execution_count": 318,
   "metadata": {},
   "outputs": [
    {
     "data": {
      "text/plain": [
       "Date                0\n",
       "Precip              0\n",
       "WindGustSpd    118508\n",
       "MaxTemp             0\n",
       "MinTemp             0\n",
       "MeanTemp            0\n",
       "Snowfall         1163\n",
       "PoorWeather     84803\n",
       "YR                  0\n",
       "MO                  0\n",
       "DA                  0\n",
       "PRCP             1932\n",
       "DR             118507\n",
       "SPD            118508\n",
       "MAX               474\n",
       "MIN               468\n",
       "MEA               498\n",
       "SNF              1163\n",
       "SND            113477\n",
       "FT             119040\n",
       "FB             119040\n",
       "FTI            119040\n",
       "ITH            119040\n",
       "PGT            118515\n",
       "TSHDSBRSGF      84803\n",
       "SD3            119040\n",
       "RHX            119040\n",
       "RHN            119040\n",
       "RVG            119040\n",
       "WTE            119040\n",
       "dtype: int64"
      ]
     },
     "execution_count": 318,
     "metadata": {},
     "output_type": "execute_result"
    }
   ],
   "source": [
    "df.isnull().sum()"
   ]
  },
  {
   "cell_type": "code",
   "execution_count": 319,
   "metadata": {},
   "outputs": [],
   "source": [
    "deleted_columns = []\n",
    "for i in dict(df.isnull().sum()).keys():\n",
    "    if dict(df.isnull().sum())[i]>=60000:\n",
    "        deleted_columns.append(i)\n"
   ]
  },
  {
   "cell_type": "code",
   "execution_count": 320,
   "metadata": {},
   "outputs": [],
   "source": [
    "df.drop(df[deleted_columns],axis = 1,inplace=True)"
   ]
  },
  {
   "cell_type": "code",
   "execution_count": 321,
   "metadata": {},
   "outputs": [],
   "source": [
    "float_columns = []\n",
    "object_columns = []\n",
    "for i in dict(df.isnull().sum()).keys():\n",
    "    if dict(df.isnull().sum())[i]>=1:\n",
    "         if df[i].dtype==object:\n",
    "              object_columns.append(i)\n",
    "         else:\n",
    "             float_columns.append(i)\n"
   ]
  },
  {
   "cell_type": "code",
   "execution_count": 322,
   "metadata": {},
   "outputs": [],
   "source": [
    "for column in object_columns:\n",
    "    df[column].fillna(df[column].mode()[0], inplace=True)\n",
    "\n",
    "for column in float_columns:\n",
    "    df[column].fillna(df[column].mean(), inplace=True)\n"
   ]
  },
  {
   "cell_type": "code",
   "execution_count": 323,
   "metadata": {},
   "outputs": [
    {
     "data": {
      "text/plain": [
       "Date        0\n",
       "Precip      0\n",
       "MaxTemp     0\n",
       "MinTemp     0\n",
       "MeanTemp    0\n",
       "Snowfall    0\n",
       "YR          0\n",
       "MO          0\n",
       "DA          0\n",
       "PRCP        0\n",
       "MAX         0\n",
       "MIN         0\n",
       "MEA         0\n",
       "SNF         0\n",
       "dtype: int64"
      ]
     },
     "execution_count": 323,
     "metadata": {},
     "output_type": "execute_result"
    }
   ],
   "source": [
    "df.isnull().sum()"
   ]
  },
  {
   "cell_type": "code",
   "execution_count": 324,
   "metadata": {},
   "outputs": [],
   "source": [
    "cont_variables = []\n",
    "discrt_variables = []\n",
    "for i in df.columns:\n",
    "    \n",
    "    if df[i].dtype==object:\n",
    "        discrt_variables.append(i)\n",
    "    else:\n",
    "        cont_variables.append(i)"
   ]
  },
  {
   "cell_type": "code",
   "execution_count": 325,
   "metadata": {},
   "outputs": [
    {
     "data": {
      "image/png": "[encoded data removed]",
      "text/plain": [
       "<Figure size 432x288 with 1 Axes>"
      ]
     },
     "metadata": {},
     "output_type": "display_data"
    },
    {
     "data": {
      "image/png": "[encoded data removed]",
      "text/plain": [
       "<Figure size 432x288 with 1 Axes>"
      ]
     },
     "metadata": {},
     "output_type": "display_data"
    },
    {
     "data": {
      "image/png": "[encoded data removed]",
      "text/plain": [
       "<Figure size 432x288 with 1 Axes>"
      ]
     },
     "metadata": {},
     "output_type": "display_data"
    },
    {
     "data": {
      "image/png": "[encoded data removed]",
      "text/plain": [
       "<Figure size 432x288 with 1 Axes>"
      ]
     },
     "metadata": {},
     "output_type": "display_data"
    },
    {
     "data": {
      "image/png": "[encoded data removed]",
      "text/plain": [
       "<Figure size 432x288 with 1 Axes>"
      ]
     },
     "metadata": {},
     "output_type": "display_data"
    },
    {
     "data": {
      "image/png": "[encoded data removed]",
      "text/plain": [
       "<Figure size 432x288 with 1 Axes>"
      ]
     },
     "metadata": {},
     "output_type": "display_data"
    },
    {
     "data": {
      "image/png": "[encoded data removed]",
      "text/plain": [
       "<Figure size 432x288 with 1 Axes>"
      ]
     },
     "metadata": {},
     "output_type": "display_data"
    },
    {
     "data": {
      "image/png": "[encoded data removed]",
      "text/plain": [
       "<Figure size 432x288 with 1 Axes>"
      ]
     },
     "metadata": {},
     "output_type": "display_data"
    },
    {
     "data": {
      "image/png": "[encoded data removed]",
      "text/plain": [
       "<Figure size 432x288 with 1 Axes>"
      ]
     },
     "metadata": {},
     "output_type": "display_data"
    }
   ],
   "source": [
    "for column in cont_variables:\n",
    "    plt.hist(df[column])\n",
    "    plt.show()"
   ]
  },
  {
   "cell_type": "code",
   "execution_count": 326,
   "metadata": {},
   "outputs": [
    {
     "data": {
      "text/html": [
       "<div>\n",
       "<style scoped>\n",
       "    .dataframe tbody tr th:only-of-type {\n",
       "        vertical-align: middle;\n",
       "    }\n",
       "\n",
       "    .dataframe tbody tr th {\n",
       "        vertical-align: top;\n",
       "    }\n",
       "\n",
       "    .dataframe thead th {\n",
       "        text-align: right;\n",
       "    }\n",
       "</style>\n",
       "<table border=\"1\" class=\"dataframe\">\n",
       "  <thead>\n",
       "    <tr style=\"text-align: right;\">\n",
       "      <th></th>\n",
       "      <th>MaxTemp</th>\n",
       "      <th>MinTemp</th>\n",
       "      <th>MeanTemp</th>\n",
       "      <th>YR</th>\n",
       "      <th>MO</th>\n",
       "      <th>DA</th>\n",
       "      <th>MAX</th>\n",
       "      <th>MIN</th>\n",
       "      <th>MEA</th>\n",
       "    </tr>\n",
       "  </thead>\n",
       "  <tbody>\n",
       "    <tr>\n",
       "      <th>count</th>\n",
       "      <td>119040.000000</td>\n",
       "      <td>119040.000000</td>\n",
       "      <td>119040.000000</td>\n",
       "      <td>119040.000000</td>\n",
       "      <td>119040.000000</td>\n",
       "      <td>119040.000000</td>\n",
       "      <td>119040.000000</td>\n",
       "      <td>119040.000000</td>\n",
       "      <td>119040.000000</td>\n",
       "    </tr>\n",
       "    <tr>\n",
       "      <th>mean</th>\n",
       "      <td>27.045111</td>\n",
       "      <td>17.789511</td>\n",
       "      <td>22.411631</td>\n",
       "      <td>43.805284</td>\n",
       "      <td>6.726016</td>\n",
       "      <td>15.797530</td>\n",
       "      <td>81.003745</td>\n",
       "      <td>64.273808</td>\n",
       "      <td>72.644843</td>\n",
       "    </tr>\n",
       "    <tr>\n",
       "      <th>std</th>\n",
       "      <td>8.717817</td>\n",
       "      <td>8.334572</td>\n",
       "      <td>8.297982</td>\n",
       "      <td>1.136718</td>\n",
       "      <td>3.425561</td>\n",
       "      <td>8.794541</td>\n",
       "      <td>14.839727</td>\n",
       "      <td>14.453003</td>\n",
       "      <td>14.181324</td>\n",
       "    </tr>\n",
       "    <tr>\n",
       "      <th>min</th>\n",
       "      <td>-33.333333</td>\n",
       "      <td>-38.333333</td>\n",
       "      <td>-35.555556</td>\n",
       "      <td>40.000000</td>\n",
       "      <td>1.000000</td>\n",
       "      <td>1.000000</td>\n",
       "      <td>-28.000000</td>\n",
       "      <td>-37.000000</td>\n",
       "      <td>-32.000000</td>\n",
       "    </tr>\n",
       "    <tr>\n",
       "      <th>25%</th>\n",
       "      <td>25.555556</td>\n",
       "      <td>15.000000</td>\n",
       "      <td>20.555556</td>\n",
       "      <td>43.000000</td>\n",
       "      <td>4.000000</td>\n",
       "      <td>8.000000</td>\n",
       "      <td>78.000000</td>\n",
       "      <td>59.000000</td>\n",
       "      <td>69.000000</td>\n",
       "    </tr>\n",
       "    <tr>\n",
       "      <th>50%</th>\n",
       "      <td>29.444444</td>\n",
       "      <td>21.111111</td>\n",
       "      <td>25.555556</td>\n",
       "      <td>44.000000</td>\n",
       "      <td>7.000000</td>\n",
       "      <td>16.000000</td>\n",
       "      <td>85.000000</td>\n",
       "      <td>70.000000</td>\n",
       "      <td>78.000000</td>\n",
       "    </tr>\n",
       "    <tr>\n",
       "      <th>75%</th>\n",
       "      <td>31.666667</td>\n",
       "      <td>23.333333</td>\n",
       "      <td>27.222222</td>\n",
       "      <td>45.000000</td>\n",
       "      <td>10.000000</td>\n",
       "      <td>23.000000</td>\n",
       "      <td>89.000000</td>\n",
       "      <td>74.000000</td>\n",
       "      <td>81.000000</td>\n",
       "    </tr>\n",
       "    <tr>\n",
       "      <th>max</th>\n",
       "      <td>50.000000</td>\n",
       "      <td>34.444444</td>\n",
       "      <td>40.000000</td>\n",
       "      <td>45.000000</td>\n",
       "      <td>12.000000</td>\n",
       "      <td>31.000000</td>\n",
       "      <td>122.000000</td>\n",
       "      <td>94.000000</td>\n",
       "      <td>104.000000</td>\n",
       "    </tr>\n",
       "  </tbody>\n",
       "</table>\n",
       "</div>"
      ],
      "text/plain": [
       "             MaxTemp        MinTemp       MeanTemp             YR  \\\n",
       "count  119040.000000  119040.000000  119040.000000  119040.000000   \n",
       "mean       27.045111      17.789511      22.411631      43.805284   \n",
       "std         8.717817       8.334572       8.297982       1.136718   \n",
       "min       -33.333333     -38.333333     -35.555556      40.000000   \n",
       "25%        25.555556      15.000000      20.555556      43.000000   \n",
       "50%        29.444444      21.111111      25.555556      44.000000   \n",
       "75%        31.666667      23.333333      27.222222      45.000000   \n",
       "max        50.000000      34.444444      40.000000      45.000000   \n",
       "\n",
       "                  MO             DA            MAX            MIN  \\\n",
       "count  119040.000000  119040.000000  119040.000000  119040.000000   \n",
       "mean        6.726016      15.797530      81.003745      64.273808   \n",
       "std         3.425561       8.794541      14.839727      14.453003   \n",
       "min         1.000000       1.000000     -28.000000     -37.000000   \n",
       "25%         4.000000       8.000000      78.000000      59.000000   \n",
       "50%         7.000000      16.000000      85.000000      70.000000   \n",
       "75%        10.000000      23.000000      89.000000      74.000000   \n",
       "max        12.000000      31.000000     122.000000      94.000000   \n",
       "\n",
       "                 MEA  \n",
       "count  119040.000000  \n",
       "mean       72.644843  \n",
       "std        14.181324  \n",
       "min       -32.000000  \n",
       "25%        69.000000  \n",
       "50%        78.000000  \n",
       "75%        81.000000  \n",
       "max       104.000000  "
      ]
     },
     "execution_count": 326,
     "metadata": {},
     "output_type": "execute_result"
    }
   ],
   "source": [
    "df.describe()\n",
    "    "
   ]
  },
  {
   "cell_type": "code",
   "execution_count": 327,
   "metadata": {},
   "outputs": [
    {
     "name": "stdout",
     "output_type": "stream",
     "text": [
      "0          64267\n",
      "T          16753\n",
      "0.254       3389\n",
      "0.508       2909\n",
      "0.762       2015\n",
      "           ...  \n",
      "136.652        1\n",
      "162.052        1\n",
      "107.696        1\n",
      "106.68         1\n",
      "234.95         1\n",
      "Name: Precip, Length: 540, dtype: int64\n",
      "0.0        87253\n",
      "0          29600\n",
      "5.08         527\n",
      "7.62         319\n",
      "2.54         317\n",
      "10.16        195\n",
      "12.7          90\n",
      "20.32         83\n",
      "17.78         78\n",
      "15.24         70\n",
      "22.86         69\n",
      "25.4          68\n",
      "#VALUE!       44\n",
      "27.94         40\n",
      "30.48         31\n",
      "45.72         25\n",
      "50.8          24\n",
      "2.54          22\n",
      "48.26         22\n",
      "35.56         20\n",
      "33.02         15\n",
      "60.96         13\n",
      "7.62          11\n",
      "38.1          11\n",
      "66.04         11\n",
      "43.18         10\n",
      "53.34         10\n",
      "10.16         10\n",
      "5.08           7\n",
      "63.5           7\n",
      "40.64          6\n",
      "55.88          6\n",
      "58.42          5\n",
      "76.2           5\n",
      "15.24          4\n",
      "81.28          4\n",
      "78.74          2\n",
      "12.7           2\n",
      "73.66          1\n",
      "83.82          1\n",
      "86.36          1\n",
      "68.58          1\n",
      "Name: Snowfall, dtype: int64\n",
      "0       64267\n",
      "T       16753\n",
      "0.01     3389\n",
      "0.02     2909\n",
      "0.03     2015\n",
      "        ...  \n",
      "4.58        1\n",
      "3.56        1\n",
      "4.2         1\n",
      "4.37        1\n",
      "3.29        1\n",
      "Name: PRCP, Length: 540, dtype: int64\n",
      "0.0    87253\n",
      "0      29600\n",
      "0.2      527\n",
      "0.3      319\n",
      "0.1      317\n",
      "0.4      195\n",
      "0.5       90\n",
      "0.8       83\n",
      "0.7       78\n",
      "0.6       70\n",
      "0.9       69\n",
      "1         68\n",
      "T         44\n",
      "1.1       40\n",
      "1.2       31\n",
      "1.8       25\n",
      "2         24\n",
      "0.1       22\n",
      "1.9       22\n",
      "1.4       20\n",
      "1.3       15\n",
      "2.4       13\n",
      "1.5       11\n",
      "0.3       11\n",
      "2.6       11\n",
      "0.4       10\n",
      "1.7       10\n",
      "2.1       10\n",
      "0.2        7\n",
      "2.5        7\n",
      "1.6        6\n",
      "2.2        6\n",
      "3          5\n",
      "2.3        5\n",
      "0.6        4\n",
      "3.2        4\n",
      "0.5        2\n",
      "3.1        2\n",
      "2.9        1\n",
      "3.4        1\n",
      "3.3        1\n",
      "2.7        1\n",
      "Name: SNF, dtype: int64\n"
     ]
    }
   ],
   "source": [
    "for column in discrt_variables[1:]:\n",
    "  print(df[column].value_counts())"
   ]
  },
  {
   "cell_type": "code",
   "execution_count": 328,
   "metadata": {},
   "outputs": [
    {
     "data": {
      "text/plain": [
       "['Date', 'Precip', 'Snowfall', 'PRCP', 'SNF']"
      ]
     },
     "execution_count": 328,
     "metadata": {},
     "output_type": "execute_result"
    }
   ],
   "source": [
    "discrt_variables"
   ]
  },
  {
   "cell_type": "code",
   "execution_count": 329,
   "metadata": {},
   "outputs": [],
   "source": [
    "df.loc[df['Precip'] == 'T', 'Precip'] = 1\n",
    "df.loc[df['Precip'] == '0.254' , 'Precip'] = 2\n",
    "df.loc[df['Precip'] == '0.508' , 'Precip'] = 3\n",
    "df.loc[df['Precip'] == '0.762' , 'Precip'] = 4\n",
    "non = []\n",
    "for value in df['Precip']:\n",
    "    if value not in [1,2,3,4,'0']:\n",
    "        non.append(value)\n",
    "\n",
    "df.loc[df['Precip'].isin(non) ,'Precip']=5"
   ]
  },
  {
   "cell_type": "code",
   "execution_count": 330,
   "metadata": {},
   "outputs": [
    {
     "data": {
      "text/plain": [
       "0    64267\n",
       "5    29707\n",
       "1    16753\n",
       "2     3389\n",
       "3     2909\n",
       "4     2015\n",
       "Name: Precip, dtype: int64"
      ]
     },
     "execution_count": 330,
     "metadata": {},
     "output_type": "execute_result"
    }
   ],
   "source": [
    "df['Precip'].value_counts()"
   ]
  },
  {
   "cell_type": "code",
   "execution_count": 331,
   "metadata": {},
   "outputs": [
    {
     "data": {
      "text/plain": [
       "0.0        87253\n",
       "0          29600\n",
       "5.08         527\n",
       "7.62         319\n",
       "2.54         317\n",
       "10.16        195\n",
       "12.7          90\n",
       "20.32         83\n",
       "17.78         78\n",
       "15.24         70\n",
       "22.86         69\n",
       "25.4          68\n",
       "#VALUE!       44\n",
       "27.94         40\n",
       "30.48         31\n",
       "45.72         25\n",
       "50.8          24\n",
       "2.54          22\n",
       "48.26         22\n",
       "35.56         20\n",
       "33.02         15\n",
       "60.96         13\n",
       "7.62          11\n",
       "38.1          11\n",
       "66.04         11\n",
       "43.18         10\n",
       "53.34         10\n",
       "10.16         10\n",
       "5.08           7\n",
       "63.5           7\n",
       "40.64          6\n",
       "55.88          6\n",
       "58.42          5\n",
       "76.2           5\n",
       "15.24          4\n",
       "81.28          4\n",
       "78.74          2\n",
       "12.7           2\n",
       "73.66          1\n",
       "83.82          1\n",
       "86.36          1\n",
       "68.58          1\n",
       "Name: Snowfall, dtype: int64"
      ]
     },
     "execution_count": 331,
     "metadata": {},
     "output_type": "execute_result"
    }
   ],
   "source": [
    "df['Snowfall'].value_counts()"
   ]
  },
  {
   "cell_type": "code",
   "execution_count": 332,
   "metadata": {},
   "outputs": [],
   "source": [
    "\n",
    "df = df[df['Snowfall'] != '#VALUE!']"
   ]
  },
  {
   "cell_type": "code",
   "execution_count": 333,
   "metadata": {},
   "outputs": [],
   "source": [
    "df['Snowfall'] = df['Snowfall'].astype(float)"
   ]
  },
  {
   "cell_type": "code",
   "execution_count": 334,
   "metadata": {},
   "outputs": [
    {
     "name": "stdout",
     "output_type": "stream",
     "text": [
      "<class 'pandas.core.frame.DataFrame'>\n",
      "Int64Index: 118996 entries, 0 to 119039\n",
      "Data columns (total 14 columns):\n",
      " #   Column    Non-Null Count   Dtype  \n",
      "---  ------    --------------   -----  \n",
      " 0   Date      118996 non-null  object \n",
      " 1   Precip    118996 non-null  object \n",
      " 2   MaxTemp   118996 non-null  float64\n",
      " 3   MinTemp   118996 non-null  float64\n",
      " 4   MeanTemp  118996 non-null  float64\n",
      " 5   Snowfall  118996 non-null  float64\n",
      " 6   YR        118996 non-null  int64  \n",
      " 7   MO        118996 non-null  int64  \n",
      " 8   DA        118996 non-null  int64  \n",
      " 9   PRCP      118996 non-null  object \n",
      " 10  MAX       118996 non-null  float64\n",
      " 11  MIN       118996 non-null  float64\n",
      " 12  MEA       118996 non-null  float64\n",
      " 13  SNF       118996 non-null  object \n",
      "dtypes: float64(7), int64(3), object(4)\n",
      "memory usage: 13.6+ MB\n"
     ]
    }
   ],
   "source": [
    "df.info()"
   ]
  },
  {
   "cell_type": "code",
   "execution_count": 335,
   "metadata": {},
   "outputs": [
    {
     "data": {
      "text/plain": [
       "0       64252\n",
       "T       16732\n",
       "0.01     3386\n",
       "0.02     2909\n",
       "0.03     2014\n",
       "        ...  \n",
       "4.58        1\n",
       "3.56        1\n",
       "4.2         1\n",
       "4.37        1\n",
       "3.29        1\n",
       "Name: PRCP, Length: 540, dtype: int64"
      ]
     },
     "execution_count": 335,
     "metadata": {},
     "output_type": "execute_result"
    }
   ],
   "source": [
    "df['PRCP'].value_counts()"
   ]
  },
  {
   "cell_type": "code",
   "execution_count": 336,
   "metadata": {},
   "outputs": [],
   "source": [
    "df.loc[df['PRCP'] == 'T', 'PRCP'] = 1"
   ]
  },
  {
   "cell_type": "code",
   "execution_count": 337,
   "metadata": {},
   "outputs": [],
   "source": [
    "df['PRCP'] = df['PRCP'].astype(float)\n",
    "df.loc[df['PRCP'] == 1, 'PRCP'] = df['PRCP'].mean()\n"
   ]
  },
  {
   "cell_type": "code",
   "execution_count": 338,
   "metadata": {},
   "outputs": [
    {
     "data": {
      "text/plain": [
       "0.000000    64252\n",
       "0.267645    16801\n",
       "0.010000     3386\n",
       "0.020000     2909\n",
       "0.030000     2014\n",
       "            ...  \n",
       "3.540000        1\n",
       "3.590000        1\n",
       "6.340000        1\n",
       "4.440000        1\n",
       "3.900000        1\n",
       "Name: PRCP, Length: 539, dtype: int64"
      ]
     },
     "execution_count": 338,
     "metadata": {},
     "output_type": "execute_result"
    }
   ],
   "source": [
    "df['PRCP'].value_counts()"
   ]
  },
  {
   "cell_type": "code",
   "execution_count": 339,
   "metadata": {},
   "outputs": [
    {
     "name": "stdout",
     "output_type": "stream",
     "text": [
      "<class 'pandas.core.frame.DataFrame'>\n",
      "Int64Index: 118996 entries, 0 to 119039\n",
      "Data columns (total 14 columns):\n",
      " #   Column    Non-Null Count   Dtype  \n",
      "---  ------    --------------   -----  \n",
      " 0   Date      118996 non-null  object \n",
      " 1   Precip    118996 non-null  object \n",
      " 2   MaxTemp   118996 non-null  float64\n",
      " 3   MinTemp   118996 non-null  float64\n",
      " 4   MeanTemp  118996 non-null  float64\n",
      " 5   Snowfall  118996 non-null  float64\n",
      " 6   YR        118996 non-null  int64  \n",
      " 7   MO        118996 non-null  int64  \n",
      " 8   DA        118996 non-null  int64  \n",
      " 9   PRCP      118996 non-null  float64\n",
      " 10  MAX       118996 non-null  float64\n",
      " 11  MIN       118996 non-null  float64\n",
      " 12  MEA       118996 non-null  float64\n",
      " 13  SNF       118996 non-null  object \n",
      "dtypes: float64(8), int64(3), object(3)\n",
      "memory usage: 13.6+ MB\n"
     ]
    }
   ],
   "source": [
    "df.info()"
   ]
  },
  {
   "cell_type": "code",
   "execution_count": 340,
   "metadata": {},
   "outputs": [],
   "source": [
    "date = []\n",
    "for value in df['Date']:\n",
    "    date.append(value[5])\n",
    "\n"
   ]
  },
  {
   "cell_type": "code",
   "execution_count": 341,
   "metadata": {},
   "outputs": [],
   "source": [
    "df['Date'] = date"
   ]
  },
  {
   "cell_type": "code",
   "execution_count": 342,
   "metadata": {},
   "outputs": [],
   "source": [
    "summer = ['6','7','8']\n",
    "spring = ['3','4','5']\n",
    "winter = ['11','12','1']\n",
    "fall  = ['9','10','11']\n",
    "df.loc[df['Date'].isin(summer), 'Date'] = 'summer'\n",
    "df.loc[df['Date'].isin(spring), 'Date'] = 'spring'\n",
    "df.loc[df['Date'].isin(winter), 'Date'] = 'winter'\n",
    "df.loc[df['Date'].isin(fall), 'Date'] = 'fall'\n"
   ]
  },
  {
   "cell_type": "code",
   "execution_count": 346,
   "metadata": {},
   "outputs": [],
   "source": [
    "df.loc[df['Date'] == '2', 'Date'] = 'spring'"
   ]
  },
  {
   "cell_type": "code",
   "execution_count": 343,
   "metadata": {},
   "outputs": [
    {
     "data": {
      "text/html": [
       "<div>\n",
       "<style scoped>\n",
       "    .dataframe tbody tr th:only-of-type {\n",
       "        vertical-align: middle;\n",
       "    }\n",
       "\n",
       "    .dataframe tbody tr th {\n",
       "        vertical-align: top;\n",
       "    }\n",
       "\n",
       "    .dataframe thead th {\n",
       "        text-align: right;\n",
       "    }\n",
       "</style>\n",
       "<table border=\"1\" class=\"dataframe\">\n",
       "  <thead>\n",
       "    <tr style=\"text-align: right;\">\n",
       "      <th></th>\n",
       "      <th>Date</th>\n",
       "      <th>Precip</th>\n",
       "      <th>MaxTemp</th>\n",
       "      <th>MinTemp</th>\n",
       "      <th>MeanTemp</th>\n",
       "      <th>Snowfall</th>\n",
       "      <th>YR</th>\n",
       "      <th>MO</th>\n",
       "      <th>DA</th>\n",
       "      <th>PRCP</th>\n",
       "      <th>MAX</th>\n",
       "      <th>MIN</th>\n",
       "      <th>MEA</th>\n",
       "      <th>SNF</th>\n",
       "    </tr>\n",
       "  </thead>\n",
       "  <tbody>\n",
       "    <tr>\n",
       "      <th>0</th>\n",
       "      <td>summer</td>\n",
       "      <td>5</td>\n",
       "      <td>25.555556</td>\n",
       "      <td>22.222222</td>\n",
       "      <td>23.888889</td>\n",
       "      <td>0.0</td>\n",
       "      <td>42</td>\n",
       "      <td>7</td>\n",
       "      <td>1</td>\n",
       "      <td>0.04</td>\n",
       "      <td>78.0</td>\n",
       "      <td>72.0</td>\n",
       "      <td>75.0</td>\n",
       "      <td>0</td>\n",
       "    </tr>\n",
       "    <tr>\n",
       "      <th>1</th>\n",
       "      <td>summer</td>\n",
       "      <td>0</td>\n",
       "      <td>28.888889</td>\n",
       "      <td>21.666667</td>\n",
       "      <td>25.555556</td>\n",
       "      <td>0.0</td>\n",
       "      <td>42</td>\n",
       "      <td>7</td>\n",
       "      <td>2</td>\n",
       "      <td>0.00</td>\n",
       "      <td>84.0</td>\n",
       "      <td>71.0</td>\n",
       "      <td>78.0</td>\n",
       "      <td>0</td>\n",
       "    </tr>\n",
       "    <tr>\n",
       "      <th>2</th>\n",
       "      <td>summer</td>\n",
       "      <td>5</td>\n",
       "      <td>26.111111</td>\n",
       "      <td>22.222222</td>\n",
       "      <td>24.444444</td>\n",
       "      <td>0.0</td>\n",
       "      <td>42</td>\n",
       "      <td>7</td>\n",
       "      <td>3</td>\n",
       "      <td>0.10</td>\n",
       "      <td>79.0</td>\n",
       "      <td>72.0</td>\n",
       "      <td>76.0</td>\n",
       "      <td>0</td>\n",
       "    </tr>\n",
       "    <tr>\n",
       "      <th>3</th>\n",
       "      <td>summer</td>\n",
       "      <td>5</td>\n",
       "      <td>26.666667</td>\n",
       "      <td>22.222222</td>\n",
       "      <td>24.444444</td>\n",
       "      <td>0.0</td>\n",
       "      <td>42</td>\n",
       "      <td>7</td>\n",
       "      <td>4</td>\n",
       "      <td>0.10</td>\n",
       "      <td>80.0</td>\n",
       "      <td>72.0</td>\n",
       "      <td>76.0</td>\n",
       "      <td>0</td>\n",
       "    </tr>\n",
       "    <tr>\n",
       "      <th>4</th>\n",
       "      <td>summer</td>\n",
       "      <td>0</td>\n",
       "      <td>26.666667</td>\n",
       "      <td>21.666667</td>\n",
       "      <td>24.444444</td>\n",
       "      <td>0.0</td>\n",
       "      <td>42</td>\n",
       "      <td>7</td>\n",
       "      <td>5</td>\n",
       "      <td>0.00</td>\n",
       "      <td>80.0</td>\n",
       "      <td>71.0</td>\n",
       "      <td>76.0</td>\n",
       "      <td>0</td>\n",
       "    </tr>\n",
       "  </tbody>\n",
       "</table>\n",
       "</div>"
      ],
      "text/plain": [
       "     Date Precip    MaxTemp    MinTemp   MeanTemp  Snowfall  YR  MO  DA  PRCP  \\\n",
       "0  summer      5  25.555556  22.222222  23.888889       0.0  42   7   1  0.04   \n",
       "1  summer      0  28.888889  21.666667  25.555556       0.0  42   7   2  0.00   \n",
       "2  summer      5  26.111111  22.222222  24.444444       0.0  42   7   3  0.10   \n",
       "3  summer      5  26.666667  22.222222  24.444444       0.0  42   7   4  0.10   \n",
       "4  summer      0  26.666667  21.666667  24.444444       0.0  42   7   5  0.00   \n",
       "\n",
       "    MAX   MIN   MEA SNF  \n",
       "0  78.0  72.0  75.0   0  \n",
       "1  84.0  71.0  78.0   0  \n",
       "2  79.0  72.0  76.0   0  \n",
       "3  80.0  72.0  76.0   0  \n",
       "4  80.0  71.0  76.0   0  "
      ]
     },
     "execution_count": 343,
     "metadata": {},
     "output_type": "execute_result"
    }
   ],
   "source": [
    "df.head(5)"
   ]
  },
  {
   "cell_type": "code",
   "execution_count": 347,
   "metadata": {},
   "outputs": [
    {
     "data": {
      "text/plain": [
       "<seaborn.axisgrid.FacetGrid at 0x7f8fbed39400>"
      ]
     },
     "execution_count": 347,
     "metadata": {},
     "output_type": "execute_result"
    },
    {
     "data": {
      "image/png": "[encoded data removed]",
      "text/plain": [
       "<Figure size 360x360 with 1 Axes>"
      ]
     },
     "metadata": {},
     "output_type": "display_data"
    }
   ],
   "source": [
    "sns.catplot(x=\"Date\", y=\"MinTemp\", data=df)"
   ]
  },
  {
   "cell_type": "code",
   "execution_count": 348,
   "metadata": {},
   "outputs": [
    {
     "data": {
      "text/plain": [
       "<seaborn.axisgrid.FacetGrid at 0x7f8fbf115af0>"
      ]
     },
     "execution_count": 348,
     "metadata": {},
     "output_type": "execute_result"
    },
    {
     "data": {
      "image/png": "[encoded data removed]",
      "text/plain": [
       "<Figure size 360x360 with 1 Axes>"
      ]
     },
     "metadata": {},
     "output_type": "display_data"
    }
   ],
   "source": [
    "sns.catplot(x=\"Date\", y=\"MaxTemp\", data=df)"
   ]
  },
  {
   "cell_type": "code",
   "execution_count": 349,
   "metadata": {},
   "outputs": [
    {
     "data": {
      "text/plain": [
       "<seaborn.axisgrid.FacetGrid at 0x7f8fbf115d00>"
      ]
     },
     "execution_count": 349,
     "metadata": {},
     "output_type": "execute_result"
    },
    {
     "data": {
      "image/png": "[encoded data removed]",
      "text/plain": [
       "<Figure size 360x360 with 1 Axes>"
      ]
     },
     "metadata": {},
     "output_type": "display_data"
    }
   ],
   "source": [
    "sns.catplot(x=\"Date\", y=\"MaxTemp\",kind=\"box\", data=df)"
   ]
  },
  {
   "cell_type": "code",
   "execution_count": 350,
   "metadata": {},
   "outputs": [
    {
     "data": {
      "text/plain": [
       "<seaborn.axisgrid.FacetGrid at 0x7f8fb80c5490>"
      ]
     },
     "execution_count": 350,
     "metadata": {},
     "output_type": "execute_result"
    },
    {
     "data": {
      "image/png": "[encoded data removed]",
      "text/plain": [
       "<Figure size 360x360 with 1 Axes>"
      ]
     },
     "metadata": {},
     "output_type": "display_data"
    }
   ],
   "source": [
    "sns.catplot(x=\"Date\", y=\"MinTemp\",kind=\"box\", data=df)"
   ]
  },
  {
   "cell_type": "code",
   "execution_count": 351,
   "metadata": {},
   "outputs": [
    {
     "data": {
      "text/plain": [
       "<seaborn.axisgrid.FacetGrid at 0x7f8fab626a00>"
      ]
     },
     "execution_count": 351,
     "metadata": {},
     "output_type": "execute_result"
    },
    {
     "data": {
      "image/png": "[encoded data removed]",
      "text/plain": [
       "<Figure size 360x360 with 1 Axes>"
      ]
     },
     "metadata": {},
     "output_type": "display_data"
    }
   ],
   "source": [
    "sns.catplot(x=\"Precip\", y=\"MaxTemp\",kind=\"box\", data=df)"
   ]
  },
  {
   "cell_type": "code",
   "execution_count": 353,
   "metadata": {},
   "outputs": [
    {
     "data": {
      "text/html": [
       "<div>\n",
       "<style scoped>\n",
       "    .dataframe tbody tr th:only-of-type {\n",
       "        vertical-align: middle;\n",
       "    }\n",
       "\n",
       "    .dataframe tbody tr th {\n",
       "        vertical-align: top;\n",
       "    }\n",
       "\n",
       "    .dataframe thead th {\n",
       "        text-align: right;\n",
       "    }\n",
       "</style>\n",
       "<table border=\"1\" class=\"dataframe\">\n",
       "  <thead>\n",
       "    <tr style=\"text-align: right;\">\n",
       "      <th></th>\n",
       "      <th>MaxTemp</th>\n",
       "      <th>MinTemp</th>\n",
       "      <th>MeanTemp</th>\n",
       "      <th>Snowfall</th>\n",
       "      <th>YR</th>\n",
       "      <th>MO</th>\n",
       "      <th>DA</th>\n",
       "      <th>PRCP</th>\n",
       "      <th>MAX</th>\n",
       "      <th>MIN</th>\n",
       "      <th>MEA</th>\n",
       "    </tr>\n",
       "  </thead>\n",
       "  <tbody>\n",
       "    <tr>\n",
       "      <th>MaxTemp</th>\n",
       "      <td>1.000000</td>\n",
       "      <td>0.877921</td>\n",
       "      <td>0.968926</td>\n",
       "      <td>-0.322799</td>\n",
       "      <td>0.039198</td>\n",
       "      <td>0.030886</td>\n",
       "      <td>-0.004954</td>\n",
       "      <td>-0.008733</td>\n",
       "      <td>0.945450</td>\n",
       "      <td>0.825657</td>\n",
       "      <td>0.915265</td>\n",
       "    </tr>\n",
       "    <tr>\n",
       "      <th>MinTemp</th>\n",
       "      <td>0.877921</td>\n",
       "      <td>1.000000</td>\n",
       "      <td>0.965292</td>\n",
       "      <td>-0.308584</td>\n",
       "      <td>-0.021224</td>\n",
       "      <td>0.068711</td>\n",
       "      <td>-0.002351</td>\n",
       "      <td>0.089523</td>\n",
       "      <td>0.841183</td>\n",
       "      <td>0.963240</td>\n",
       "      <td>0.930914</td>\n",
       "    </tr>\n",
       "    <tr>\n",
       "      <th>MeanTemp</th>\n",
       "      <td>0.968926</td>\n",
       "      <td>0.965292</td>\n",
       "      <td>1.000000</td>\n",
       "      <td>-0.324483</td>\n",
       "      <td>0.010232</td>\n",
       "      <td>0.050348</td>\n",
       "      <td>-0.003948</td>\n",
       "      <td>0.040768</td>\n",
       "      <td>0.919086</td>\n",
       "      <td>0.917456</td>\n",
       "      <td>0.949226</td>\n",
       "    </tr>\n",
       "    <tr>\n",
       "      <th>Snowfall</th>\n",
       "      <td>-0.322799</td>\n",
       "      <td>-0.308584</td>\n",
       "      <td>-0.324483</td>\n",
       "      <td>1.000000</td>\n",
       "      <td>-0.001033</td>\n",
       "      <td>-0.044559</td>\n",
       "      <td>-0.000240</td>\n",
       "      <td>-0.008187</td>\n",
       "      <td>-0.341182</td>\n",
       "      <td>-0.320142</td>\n",
       "      <td>-0.341709</td>\n",
       "    </tr>\n",
       "    <tr>\n",
       "      <th>YR</th>\n",
       "      <td>0.039198</td>\n",
       "      <td>-0.021224</td>\n",
       "      <td>0.010232</td>\n",
       "      <td>-0.001033</td>\n",
       "      <td>1.000000</td>\n",
       "      <td>-0.144497</td>\n",
       "      <td>-0.011134</td>\n",
       "      <td>0.000104</td>\n",
       "      <td>0.013447</td>\n",
       "      <td>-0.043674</td>\n",
       "      <td>-0.015183</td>\n",
       "    </tr>\n",
       "    <tr>\n",
       "      <th>MO</th>\n",
       "      <td>0.030886</td>\n",
       "      <td>0.068711</td>\n",
       "      <td>0.050348</td>\n",
       "      <td>-0.044559</td>\n",
       "      <td>-0.144497</td>\n",
       "      <td>1.000000</td>\n",
       "      <td>0.006677</td>\n",
       "      <td>0.038142</td>\n",
       "      <td>0.033791</td>\n",
       "      <td>0.071969</td>\n",
       "      <td>0.054317</td>\n",
       "    </tr>\n",
       "    <tr>\n",
       "      <th>DA</th>\n",
       "      <td>-0.004954</td>\n",
       "      <td>-0.002351</td>\n",
       "      <td>-0.003948</td>\n",
       "      <td>-0.000240</td>\n",
       "      <td>-0.011134</td>\n",
       "      <td>0.006677</td>\n",
       "      <td>1.000000</td>\n",
       "      <td>0.000736</td>\n",
       "      <td>-0.003101</td>\n",
       "      <td>-0.000500</td>\n",
       "      <td>-0.001867</td>\n",
       "    </tr>\n",
       "    <tr>\n",
       "      <th>PRCP</th>\n",
       "      <td>-0.008733</td>\n",
       "      <td>0.089523</td>\n",
       "      <td>0.040768</td>\n",
       "      <td>-0.008187</td>\n",
       "      <td>0.000104</td>\n",
       "      <td>0.038142</td>\n",
       "      <td>0.000736</td>\n",
       "      <td>1.000000</td>\n",
       "      <td>-0.010262</td>\n",
       "      <td>0.092348</td>\n",
       "      <td>0.041863</td>\n",
       "    </tr>\n",
       "    <tr>\n",
       "      <th>MAX</th>\n",
       "      <td>0.945450</td>\n",
       "      <td>0.841183</td>\n",
       "      <td>0.919086</td>\n",
       "      <td>-0.341182</td>\n",
       "      <td>0.013447</td>\n",
       "      <td>0.033791</td>\n",
       "      <td>-0.003101</td>\n",
       "      <td>-0.010262</td>\n",
       "      <td>1.000000</td>\n",
       "      <td>0.873136</td>\n",
       "      <td>0.968073</td>\n",
       "    </tr>\n",
       "    <tr>\n",
       "      <th>MIN</th>\n",
       "      <td>0.825657</td>\n",
       "      <td>0.963240</td>\n",
       "      <td>0.917456</td>\n",
       "      <td>-0.320142</td>\n",
       "      <td>-0.043674</td>\n",
       "      <td>0.071969</td>\n",
       "      <td>-0.000500</td>\n",
       "      <td>0.092348</td>\n",
       "      <td>0.873136</td>\n",
       "      <td>1.000000</td>\n",
       "      <td>0.966446</td>\n",
       "    </tr>\n",
       "    <tr>\n",
       "      <th>MEA</th>\n",
       "      <td>0.915265</td>\n",
       "      <td>0.930914</td>\n",
       "      <td>0.949226</td>\n",
       "      <td>-0.341709</td>\n",
       "      <td>-0.015183</td>\n",
       "      <td>0.054317</td>\n",
       "      <td>-0.001867</td>\n",
       "      <td>0.041863</td>\n",
       "      <td>0.968073</td>\n",
       "      <td>0.966446</td>\n",
       "      <td>1.000000</td>\n",
       "    </tr>\n",
       "  </tbody>\n",
       "</table>\n",
       "</div>"
      ],
      "text/plain": [
       "           MaxTemp   MinTemp  MeanTemp  Snowfall        YR        MO  \\\n",
       "MaxTemp   1.000000  0.877921  0.968926 -0.322799  0.039198  0.030886   \n",
       "MinTemp   0.877921  1.000000  0.965292 -0.308584 -0.021224  0.068711   \n",
       "MeanTemp  0.968926  0.965292  1.000000 -0.324483  0.010232  0.050348   \n",
       "Snowfall -0.322799 -0.308584 -0.324483  1.000000 -0.001033 -0.044559   \n",
       "YR        0.039198 -0.021224  0.010232 -0.001033  1.000000 -0.144497   \n",
       "MO        0.030886  0.068711  0.050348 -0.044559 -0.144497  1.000000   \n",
       "DA       -0.004954 -0.002351 -0.003948 -0.000240 -0.011134  0.006677   \n",
       "PRCP     -0.008733  0.089523  0.040768 -0.008187  0.000104  0.038142   \n",
       "MAX       0.945450  0.841183  0.919086 -0.341182  0.013447  0.033791   \n",
       "MIN       0.825657  0.963240  0.917456 -0.320142 -0.043674  0.071969   \n",
       "MEA       0.915265  0.930914  0.949226 -0.341709 -0.015183  0.054317   \n",
       "\n",
       "                DA      PRCP       MAX       MIN       MEA  \n",
       "MaxTemp  -0.004954 -0.008733  0.945450  0.825657  0.915265  \n",
       "MinTemp  -0.002351  0.089523  0.841183  0.963240  0.930914  \n",
       "MeanTemp -0.003948  0.040768  0.919086  0.917456  0.949226  \n",
       "Snowfall -0.000240 -0.008187 -0.341182 -0.320142 -0.341709  \n",
       "YR       -0.011134  0.000104  0.013447 -0.043674 -0.015183  \n",
       "MO        0.006677  0.038142  0.033791  0.071969  0.054317  \n",
       "DA        1.000000  0.000736 -0.003101 -0.000500 -0.001867  \n",
       "PRCP      0.000736  1.000000 -0.010262  0.092348  0.041863  \n",
       "MAX      -0.003101 -0.010262  1.000000  0.873136  0.968073  \n",
       "MIN      -0.000500  0.092348  0.873136  1.000000  0.966446  \n",
       "MEA      -0.001867  0.041863  0.968073  0.966446  1.000000  "
      ]
     },
     "execution_count": 353,
     "metadata": {},
     "output_type": "execute_result"
    }
   ],
   "source": [
    "df.corr()"
   ]
  },
  {
   "cell_type": "code",
   "execution_count": 354,
   "metadata": {},
   "outputs": [],
   "source": [
    "features = ['Date', 'Precip', 'MaxTemp', 'MeanTemp', 'Snowfall', 'MAX', 'MIN', 'MEA', 'SNF']\n",
    "target = 'MinTemp'"
   ]
  },
  {
   "cell_type": "code",
   "execution_count": 363,
   "metadata": {},
   "outputs": [],
   "source": [
    "df_model = df[['Date', 'Precip', 'MaxTemp', 'MeanTemp', 'Snowfall', 'MAX', 'MIN', 'MEA', 'SNF','MinTemp']]"
   ]
  },
  {
   "cell_type": "code",
   "execution_count": 364,
   "metadata": {},
   "outputs": [
    {
     "name": "stdout",
     "output_type": "stream",
     "text": [
      "<class 'pandas.core.frame.DataFrame'>\n",
      "Int64Index: 118996 entries, 0 to 119039\n",
      "Data columns (total 10 columns):\n",
      " #   Column    Non-Null Count   Dtype  \n",
      "---  ------    --------------   -----  \n",
      " 0   Date      118996 non-null  object \n",
      " 1   Precip    118996 non-null  object \n",
      " 2   MaxTemp   118996 non-null  float64\n",
      " 3   MeanTemp  118996 non-null  float64\n",
      " 4   Snowfall  118996 non-null  float64\n",
      " 5   MAX       118996 non-null  float64\n",
      " 6   MIN       118996 non-null  float64\n",
      " 7   MEA       118996 non-null  float64\n",
      " 8   SNF       118996 non-null  object \n",
      " 9   MinTemp   118996 non-null  float64\n",
      "dtypes: float64(7), object(3)\n",
      "memory usage: 15.0+ MB\n"
     ]
    }
   ],
   "source": [
    "df_model.info()"
   ]
  },
  {
   "cell_type": "code",
   "execution_count": 365,
   "metadata": {},
   "outputs": [
    {
     "name": "stderr",
     "output_type": "stream",
     "text": [
      "/var/folders/k1/y1ys0ktd5_zcdp_4_bcvpn0w0000gn/T/ipykernel_42745/1171873856.py:1: SettingWithCopyWarning: \n",
      "A value is trying to be set on a copy of a slice from a DataFrame.\n",
      "Try using .loc[row_indexer,col_indexer] = value instead\n",
      "\n",
      "See the caveats in the documentation: https://pandas.pydata.org/pandas-docs/stable/user_guide/indexing.html#returning-a-view-versus-a-copy\n",
      "  df_model['SNF'] = df_model['SNF'].astype(float)\n"
     ]
    }
   ],
   "source": [
    "df_model['SNF'] = df_model['SNF'].astype(float)"
   ]
  },
  {
   "cell_type": "code",
   "execution_count": 366,
   "metadata": {},
   "outputs": [
    {
     "name": "stdout",
     "output_type": "stream",
     "text": [
      "<class 'pandas.core.frame.DataFrame'>\n",
      "Int64Index: 118996 entries, 0 to 119039\n",
      "Data columns (total 10 columns):\n",
      " #   Column    Non-Null Count   Dtype  \n",
      "---  ------    --------------   -----  \n",
      " 0   Date      118996 non-null  object \n",
      " 1   Precip    118996 non-null  object \n",
      " 2   MaxTemp   118996 non-null  float64\n",
      " 3   MeanTemp  118996 non-null  float64\n",
      " 4   Snowfall  118996 non-null  float64\n",
      " 5   MAX       118996 non-null  float64\n",
      " 6   MIN       118996 non-null  float64\n",
      " 7   MEA       118996 non-null  float64\n",
      " 8   SNF       118996 non-null  float64\n",
      " 9   MinTemp   118996 non-null  float64\n",
      "dtypes: float64(8), object(2)\n",
      "memory usage: 15.0+ MB\n"
     ]
    }
   ],
   "source": [
    "df_model.info()"
   ]
  },
  {
   "cell_type": "code",
   "execution_count": 372,
   "metadata": {},
   "outputs": [
    {
     "name": "stderr",
     "output_type": "stream",
     "text": [
      "/Users/joshgunguliyev/Library/Python/3.8/lib/python/site-packages/pandas/core/indexing.py:1763: SettingWithCopyWarning: \n",
      "A value is trying to be set on a copy of a slice from a DataFrame.\n",
      "Try using .loc[row_indexer,col_indexer] = value instead\n",
      "\n",
      "See the caveats in the documentation: https://pandas.pydata.org/pandas-docs/stable/user_guide/indexing.html#returning-a-view-versus-a-copy\n",
      "  isetter(loc, value)\n"
     ]
    }
   ],
   "source": [
    "df_model.loc[df_model['Precip']=='0','Precip'] = 0"
   ]
  },
  {
   "cell_type": "code",
   "execution_count": 374,
   "metadata": {},
   "outputs": [
    {
     "data": {
      "text/html": [
       "<div>\n",
       "<style scoped>\n",
       "    .dataframe tbody tr th:only-of-type {\n",
       "        vertical-align: middle;\n",
       "    }\n",
       "\n",
       "    .dataframe tbody tr th {\n",
       "        vertical-align: top;\n",
       "    }\n",
       "\n",
       "    .dataframe thead th {\n",
       "        text-align: right;\n",
       "    }\n",
       "</style>\n",
       "<table border=\"1\" class=\"dataframe\">\n",
       "  <thead>\n",
       "    <tr style=\"text-align: right;\">\n",
       "      <th></th>\n",
       "      <th>Date</th>\n",
       "      <th>Precip</th>\n",
       "      <th>MaxTemp</th>\n",
       "      <th>MeanTemp</th>\n",
       "      <th>Snowfall</th>\n",
       "      <th>MAX</th>\n",
       "      <th>MIN</th>\n",
       "      <th>MEA</th>\n",
       "      <th>SNF</th>\n",
       "      <th>MinTemp</th>\n",
       "    </tr>\n",
       "  </thead>\n",
       "  <tbody>\n",
       "    <tr>\n",
       "      <th>0</th>\n",
       "      <td>summer</td>\n",
       "      <td>5</td>\n",
       "      <td>25.555556</td>\n",
       "      <td>23.888889</td>\n",
       "      <td>0.0</td>\n",
       "      <td>78.0</td>\n",
       "      <td>72.0</td>\n",
       "      <td>75.0</td>\n",
       "      <td>0.0</td>\n",
       "      <td>22.222222</td>\n",
       "    </tr>\n",
       "    <tr>\n",
       "      <th>1</th>\n",
       "      <td>summer</td>\n",
       "      <td>0</td>\n",
       "      <td>28.888889</td>\n",
       "      <td>25.555556</td>\n",
       "      <td>0.0</td>\n",
       "      <td>84.0</td>\n",
       "      <td>71.0</td>\n",
       "      <td>78.0</td>\n",
       "      <td>0.0</td>\n",
       "      <td>21.666667</td>\n",
       "    </tr>\n",
       "    <tr>\n",
       "      <th>2</th>\n",
       "      <td>summer</td>\n",
       "      <td>5</td>\n",
       "      <td>26.111111</td>\n",
       "      <td>24.444444</td>\n",
       "      <td>0.0</td>\n",
       "      <td>79.0</td>\n",
       "      <td>72.0</td>\n",
       "      <td>76.0</td>\n",
       "      <td>0.0</td>\n",
       "      <td>22.222222</td>\n",
       "    </tr>\n",
       "    <tr>\n",
       "      <th>3</th>\n",
       "      <td>summer</td>\n",
       "      <td>5</td>\n",
       "      <td>26.666667</td>\n",
       "      <td>24.444444</td>\n",
       "      <td>0.0</td>\n",
       "      <td>80.0</td>\n",
       "      <td>72.0</td>\n",
       "      <td>76.0</td>\n",
       "      <td>0.0</td>\n",
       "      <td>22.222222</td>\n",
       "    </tr>\n",
       "    <tr>\n",
       "      <th>4</th>\n",
       "      <td>summer</td>\n",
       "      <td>0</td>\n",
       "      <td>26.666667</td>\n",
       "      <td>24.444444</td>\n",
       "      <td>0.0</td>\n",
       "      <td>80.0</td>\n",
       "      <td>71.0</td>\n",
       "      <td>76.0</td>\n",
       "      <td>0.0</td>\n",
       "      <td>21.666667</td>\n",
       "    </tr>\n",
       "  </tbody>\n",
       "</table>\n",
       "</div>"
      ],
      "text/plain": [
       "     Date Precip    MaxTemp   MeanTemp  Snowfall   MAX   MIN   MEA  SNF  \\\n",
       "0  summer      5  25.555556  23.888889       0.0  78.0  72.0  75.0  0.0   \n",
       "1  summer      0  28.888889  25.555556       0.0  84.0  71.0  78.0  0.0   \n",
       "2  summer      5  26.111111  24.444444       0.0  79.0  72.0  76.0  0.0   \n",
       "3  summer      5  26.666667  24.444444       0.0  80.0  72.0  76.0  0.0   \n",
       "4  summer      0  26.666667  24.444444       0.0  80.0  71.0  76.0  0.0   \n",
       "\n",
       "     MinTemp  \n",
       "0  22.222222  \n",
       "1  21.666667  \n",
       "2  22.222222  \n",
       "3  22.222222  \n",
       "4  21.666667  "
      ]
     },
     "execution_count": 374,
     "metadata": {},
     "output_type": "execute_result"
    }
   ],
   "source": [
    "df_model.head()"
   ]
  },
  {
   "cell_type": "code",
   "execution_count": 375,
   "metadata": {},
   "outputs": [],
   "source": [
    "df_model.to_csv(\"weather_train_data.csv\")"
   ]
  },
  {
   "cell_type": "code",
   "execution_count": null,
   "metadata": {},
   "outputs": [],
   "source": []
  }
 ],
 "metadata": {
  "kernelspec": {
   "display_name": "Python 3.8.3 64-bit",
   "language": "python",
   "name": "python3"
  },
  "language_info": {
   "codemirror_mode": {
    "name": "ipython",
    "version": 3
   },
   "file_extension": ".py",
   "mimetype": "text/x-python",
   "name": "python",
   "nbconvert_exporter": "python",
   "pygments_lexer": "ipython3",
   "version": "3.8.3"
  },
  "orig_nbformat": 4,
  "vscode": {
   "interpreter": {
    "hash": "aee8b7b246df8f9039afb4144a1f6fd8d2ca17a180786b69acc140d282b71a49"
   }
  }
 },
 "nbformat": 4,
 "nbformat_minor": 2
}
